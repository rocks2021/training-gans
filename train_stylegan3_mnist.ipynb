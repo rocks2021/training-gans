{
  "cells": [
    {
      "cell_type": "markdown",
      "metadata": {
        "id": "view-in-github",
        "colab_type": "text"
      },
      "source": [
        "<a href=\"https://colab.research.google.com/github/rocks2021/training-gans/blob/main/train_stylegan3_mnist.ipynb\" target=\"_parent\"><img src=\"https://colab.research.google.com/assets/colab-badge.svg\" alt=\"Open In Colab\"/></a>"
      ]
    },
    {
      "cell_type": "code",
      "execution_count": 1,
      "metadata": {
        "colab": {
          "base_uri": "https://localhost:8080/"
        },
        "id": "Fh3Lw-vKheJx",
        "outputId": "223c8fbb-37e5-442e-c4e5-09c3cd247af1"
      },
      "outputs": [
        {
          "output_type": "stream",
          "name": "stdout",
          "text": [
            "Mounted at /content/drive\n"
          ]
        }
      ],
      "source": [
        "from google.colab import drive\n",
        "drive.mount('/content/drive')"
      ]
    },
    {
      "cell_type": "code",
      "execution_count": 2,
      "metadata": {
        "colab": {
          "base_uri": "https://localhost:8080/"
        },
        "id": "xdaYgYxLhs8L",
        "outputId": "52c287b6-60b9-4bfe-8b6b-8e67a206b207"
      },
      "outputs": [
        {
          "output_type": "stream",
          "name": "stdout",
          "text": [
            "/content/drive/MyDrive\n"
          ]
        }
      ],
      "source": [
        "%cd '/content/drive/MyDrive/'"
      ]
    },
    {
      "cell_type": "code",
      "execution_count": 3,
      "metadata": {
        "colab": {
          "base_uri": "https://localhost:8080/"
        },
        "id": "ZOjdlAaNsNMC",
        "outputId": "7f88039e-1868-4add-f3cb-3d29f28f7f5a"
      },
      "outputs": [
        {
          "output_type": "stream",
          "name": "stdout",
          "text": [
            " bikedgan.zip        paintinggan.zip\n",
            "\u001b[0m\u001b[01;34m'Colab Notebooks'\u001b[0m/  'Participant Registration Form.gform'\n",
            " \u001b[01;34mhirise_128_8888\u001b[0m/    pokemongan.zip\n",
            " hirise_128gan.zip   \u001b[01;34mprojected_gan\u001b[0m/\n",
            " hirise60kgan.zip   \u001b[01;34m'Questions on training GANs and other generative models'\u001b[0m/\n",
            " \u001b[01;34mimages\u001b[0m/             \u001b[01;34mstylegan2-ada-pytorch\u001b[0m/\n",
            " \u001b[01;34mmisc\u001b[0m/               \u001b[01;34mstylegan_xl\u001b[0m/\n",
            " mnist4gans.zip     \u001b[01;34m'Training GANs with HiRISE'\u001b[0m/\n",
            " mnist_rgb.zip      \u001b[01;34m'Training GANs with HiRISE 2022'\u001b[0m/\n"
          ]
        }
      ],
      "source": [
        "%ls"
      ]
    },
    {
      "cell_type": "code",
      "execution_count": 4,
      "metadata": {
        "colab": {
          "base_uri": "https://localhost:8080/"
        },
        "id": "9-vgVd2-hzt0",
        "outputId": "a5faea6b-1ecf-4d41-cd9b-dc65e92bd5db"
      },
      "outputs": [
        {
          "output_type": "stream",
          "name": "stdout",
          "text": [
            "Cloning into 'stylegan3'...\n",
            "remote: Enumerating objects: 207, done.\u001b[K\n",
            "remote: Total 207 (delta 0), reused 0 (delta 0), pack-reused 207\u001b[K\n",
            "Receiving objects: 100% (207/207), 4.17 MiB | 17.79 MiB/s, done.\n",
            "Resolving deltas: 100% (99/99), done.\n"
          ]
        }
      ],
      "source": [
        "!git clone https://github.com/NVlabs/stylegan3.git"
      ]
    },
    {
      "cell_type": "code",
      "execution_count": 5,
      "metadata": {
        "colab": {
          "base_uri": "https://localhost:8080/"
        },
        "id": "3IeZWQMXh1ND",
        "outputId": "f9dae360-18a1-4b59-e7f3-0c6e98ff2d17"
      },
      "outputs": [
        {
          "output_type": "stream",
          "name": "stdout",
          "text": [
            "/content/drive/MyDrive/stylegan3\n"
          ]
        }
      ],
      "source": [
        "%cd stylegan3"
      ]
    },
    {
      "cell_type": "code",
      "execution_count": 6,
      "metadata": {
        "colab": {
          "base_uri": "https://localhost:8080/"
        },
        "id": "JHZwyqXfh3eu",
        "outputId": "bac9e2d5-21c3-4571-9c7a-bcc4d4a302e7"
      },
      "outputs": [
        {
          "output_type": "stream",
          "name": "stdout",
          "text": [
            "avg_spectra.py   Dockerfile       gen_video.py  \u001b[0m\u001b[01;34mmetrics\u001b[0m/      train.py\n",
            "calc_metrics.py  \u001b[01;34mdocs\u001b[0m/            \u001b[01;34mgui_utils\u001b[0m/    README.md     visualizer.py\n",
            "dataset_tool.py  environment.yml  legacy.py     \u001b[01;34mtorch_utils\u001b[0m/  \u001b[01;34mviz\u001b[0m/\n",
            "\u001b[01;34mdnnlib\u001b[0m/          gen_images.py    LICENSE.txt   \u001b[01;34mtraining\u001b[0m/\n"
          ]
        }
      ],
      "source": [
        "ls"
      ]
    },
    {
      "cell_type": "code",
      "execution_count": 7,
      "metadata": {
        "colab": {
          "base_uri": "https://localhost:8080/"
        },
        "id": "2EpIR3ZMh6wO",
        "outputId": "1e842e86-863d-456c-9350-ab0b72296cfd"
      },
      "outputs": [
        {
          "output_type": "stream",
          "name": "stdout",
          "text": [
            "Looking in indexes: https://pypi.org/simple, https://us-python.pkg.dev/colab-wheels/public/simple/\n",
            "Collecting ninja\n",
            "  Downloading ninja-1.10.2.3-py2.py3-none-manylinux_2_5_x86_64.manylinux1_x86_64.whl (108 kB)\n",
            "\u001b[K     |████████████████████████████████| 108 kB 9.1 MB/s \n",
            "\u001b[?25hInstalling collected packages: ninja\n",
            "Successfully installed ninja-1.10.2.3\n"
          ]
        }
      ],
      "source": [
        "!pip install ninja"
      ]
    },
    {
      "cell_type": "code",
      "execution_count": null,
      "metadata": {
        "id": "plb_kD_ajPLe"
      },
      "outputs": [],
      "source": [
        "!python train.py --outdir=/content/drive/MyDrive/runs --cfg=stylegan3-t --data=/content/drive/MyDrive/mnist4gans.zip --gpus=1 --batch=32 --gamma=0.5 --batch-gpu=16 --snap=20"
      ]
    },
    {
      "cell_type": "code",
      "source": [
        "70/10"
      ],
      "metadata": {
        "id": "k55IPRhQTtsf"
      },
      "execution_count": null,
      "outputs": []
    }
  ],
  "metadata": {
    "accelerator": "GPU",
    "colab": {
      "machine_shape": "hm",
      "name": "train_stylegan3_mnist.ipynb",
      "provenance": [],
      "authorship_tag": "ABX9TyOsQQCq1mpAYMT54MH0Qo3N",
      "include_colab_link": true
    },
    "kernelspec": {
      "display_name": "Python 3",
      "name": "python3"
    },
    "language_info": {
      "name": "python"
    }
  },
  "nbformat": 4,
  "nbformat_minor": 0
}