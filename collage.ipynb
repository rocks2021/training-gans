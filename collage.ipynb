{
  "nbformat": 4,
  "nbformat_minor": 0,
  "metadata": {
    "colab": {
      "name": "collage.ipynb",
      "provenance": [],
      "authorship_tag": "ABX9TyPsTC8+aCOj0slRZsWeH3E9",
      "include_colab_link": true
    },
    "kernelspec": {
      "name": "python3",
      "display_name": "Python 3"
    },
    "language_info": {
      "name": "python"
    }
  },
  "cells": [
    {
      "cell_type": "markdown",
      "metadata": {
        "id": "view-in-github",
        "colab_type": "text"
      },
      "source": [
        "<a href=\"https://colab.research.google.com/github/rocks2021/training-gans/blob/main/collage.ipynb\" target=\"_parent\"><img src=\"https://colab.research.google.com/assets/colab-badge.svg\" alt=\"Open In Colab\"/></a>"
      ]
    },
    {
      "cell_type": "code",
      "execution_count": 1,
      "metadata": {
        "colab": {
          "base_uri": "https://localhost:8080/"
        },
        "id": "ok11dgz534D2",
        "outputId": "c381ad91-a3fb-4191-caa0-ca7e98216f16"
      },
      "outputs": [
        {
          "output_type": "stream",
          "name": "stdout",
          "text": [
            "Drive already mounted at /content/drive; to attempt to forcibly remount, call drive.mount(\"/content/drive\", force_remount=True).\n"
          ]
        }
      ],
      "source": [
        "from google.colab import drive\n",
        "drive.mount('/content/drive')"
      ]
    },
    {
      "cell_type": "code",
      "source": [
        "%cd '/content/drive/MyDrive/misc/collage/'"
      ],
      "metadata": {
        "colab": {
          "base_uri": "https://localhost:8080/"
        },
        "id": "Hy0sgW-33-xU",
        "outputId": "32fbc4d7-8e2c-4fce-ad86-58c874b1a6c3"
      },
      "execution_count": 2,
      "outputs": [
        {
          "output_type": "stream",
          "name": "stdout",
          "text": [
            "/content/drive/MyDrive/misc/collage\n"
          ]
        }
      ]
    },
    {
      "cell_type": "code",
      "source": [
        "!ls"
      ],
      "metadata": {
        "colab": {
          "base_uri": "https://localhost:8080/"
        },
        "id": "gSNkVlMc4CU3",
        "outputId": "b17dbc05-94cd-4164-ec2a-600ec41c7ab2"
      },
      "execution_count": 3,
      "outputs": [
        {
          "output_type": "stream",
          "name": "stdout",
          "text": [
            "1.jpg  2.jpg  3.jpg  4.jpg  5.jpg  6.jpg  7.jpg  8.jpg\t9.jpg\n"
          ]
        }
      ]
    },
    {
      "cell_type": "code",
      "source": [
        "from PIL import Image\n",
        "import matplotlib.pyplot as plt\n",
        "import glob"
      ],
      "metadata": {
        "id": "h5TLCZeH4FM6"
      },
      "execution_count": 4,
      "outputs": []
    },
    {
      "cell_type": "code",
      "source": [
        "files = ['/content/drive/MyDrive/misc/collage' + '/' + f for f in glob.glob('*.jpg')]"
      ],
      "metadata": {
        "id": "1WiultHc4LeV"
      },
      "execution_count": 5,
      "outputs": []
    },
    {
      "cell_type": "code",
      "source": [
        "files"
      ],
      "metadata": {
        "colab": {
          "base_uri": "https://localhost:8080/"
        },
        "id": "uxQyxUq_4X7G",
        "outputId": "2366951b-1bd4-4256-8c2e-d12c73658364"
      },
      "execution_count": 6,
      "outputs": [
        {
          "output_type": "execute_result",
          "data": {
            "text/plain": [
              "['/content/drive/MyDrive/misc/collage/1.jpg',\n",
              " '/content/drive/MyDrive/misc/collage/2.jpg',\n",
              " '/content/drive/MyDrive/misc/collage/3.jpg',\n",
              " '/content/drive/MyDrive/misc/collage/4.jpg',\n",
              " '/content/drive/MyDrive/misc/collage/5.jpg',\n",
              " '/content/drive/MyDrive/misc/collage/6.jpg',\n",
              " '/content/drive/MyDrive/misc/collage/7.jpg',\n",
              " '/content/drive/MyDrive/misc/collage/8.jpg',\n",
              " '/content/drive/MyDrive/misc/collage/9.jpg']"
            ]
          },
          "metadata": {},
          "execution_count": 6
        }
      ]
    },
    {
      "cell_type": "code",
      "source": [
        "imagelist = [Image.open(i) for i in files]"
      ],
      "metadata": {
        "id": "AeqcTzH34ZSr"
      },
      "execution_count": 7,
      "outputs": []
    },
    {
      "cell_type": "code",
      "source": [
        "imagelist"
      ],
      "metadata": {
        "colab": {
          "base_uri": "https://localhost:8080/"
        },
        "id": "dreOoJiw4evq",
        "outputId": "15d00518-9a25-40ae-db83-155ec7328a9a"
      },
      "execution_count": 8,
      "outputs": [
        {
          "output_type": "execute_result",
          "data": {
            "text/plain": [
              "[<PIL.JpegImagePlugin.JpegImageFile image mode=RGB size=512x512 at 0x7FE9B5E86510>,\n",
              " <PIL.JpegImagePlugin.JpegImageFile image mode=RGB size=512x512 at 0x7FE9B56CF110>,\n",
              " <PIL.JpegImagePlugin.JpegImageFile image mode=RGB size=512x512 at 0x7FE9B5BD4150>,\n",
              " <PIL.JpegImagePlugin.JpegImageFile image mode=RGB size=512x512 at 0x7FE9B56F7990>,\n",
              " <PIL.JpegImagePlugin.JpegImageFile image mode=RGB size=512x512 at 0x7FE9AE97E810>,\n",
              " <PIL.JpegImagePlugin.JpegImageFile image mode=RGB size=512x512 at 0x7FE9AE97E9D0>,\n",
              " <PIL.JpegImagePlugin.JpegImageFile image mode=RGB size=512x512 at 0x7FE9AE97E690>,\n",
              " <PIL.JpegImagePlugin.JpegImageFile image mode=RGB size=512x512 at 0x7FE9AE96CF10>,\n",
              " <PIL.JpegImagePlugin.JpegImageFile image mode=RGB size=512x512 at 0x7FE9AE97E850>]"
            ]
          },
          "metadata": {},
          "execution_count": 8
        }
      ]
    },
    {
      "cell_type": "code",
      "source": [
        "def create_collage(width, height, imagelist):\n",
        "  cols = 3\n",
        "  rows = 3\n",
        "  thumbnail_width = width//cols\n",
        "  thumbnail_height = height//rows\n",
        "  size = thumbnail_width, thumbnail_height\n",
        "  new_im = Image.new('RGB', (width, height))\n",
        "  ims = []\n",
        "  for p in files:\n",
        "    im = Image.open(p)\n",
        "    im.thumbnail(size)\n",
        "    ims.append(im)\n",
        "  i = 0\n",
        "  x = 0\n",
        "  y = 0\n",
        "  for col in range(cols):\n",
        "    for row in range(rows):\n",
        "      print(i, x, y)\n",
        "      new_im.paste(ims[i], (x, y))\n",
        "      i += 1\n",
        "      y += thumbnail_height\n",
        "    x += thumbnail_width\n",
        "    y = 0\n",
        "  new_im.save('/content/drive/MyDrive/collage.jpg')\n",
        "\n",
        "create_collage(1536, 1536, imagelist)"
      ],
      "metadata": {
        "colab": {
          "base_uri": "https://localhost:8080/"
        },
        "id": "UEi2Rfv_4gOD",
        "outputId": "40f45af8-b54d-42c0-8a91-58a35d2a7b5d"
      },
      "execution_count": 9,
      "outputs": [
        {
          "output_type": "stream",
          "name": "stdout",
          "text": [
            "0 0 0\n",
            "1 0 512\n",
            "2 0 1024\n",
            "3 512 0\n",
            "4 512 512\n",
            "5 512 1024\n",
            "6 1024 0\n",
            "7 1024 512\n",
            "8 1024 1024\n"
          ]
        }
      ]
    }
  ]
}