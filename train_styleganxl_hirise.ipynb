{
  "nbformat": 4,
  "nbformat_minor": 0,
  "metadata": {
    "colab": {
      "name": "train_styleganxl_hirise.ipynb",
      "provenance": [],
      "machine_shape": "hm",
      "collapsed_sections": [],
      "include_colab_link": true
    },
    "kernelspec": {
      "name": "python3",
      "display_name": "Python 3"
    },
    "language_info": {
      "name": "python"
    },
    "accelerator": "GPU"
  },
  "cells": [
    {
      "cell_type": "markdown",
      "metadata": {
        "id": "view-in-github",
        "colab_type": "text"
      },
      "source": [
        "<a href=\"https://colab.research.google.com/github/rocks2021/training-gans/blob/main/train_styleganxl_hirise.ipynb\" target=\"_parent\"><img src=\"https://colab.research.google.com/assets/colab-badge.svg\" alt=\"Open In Colab\"/></a>"
      ]
    },
    {
      "cell_type": "code",
      "execution_count": null,
      "metadata": {
        "id": "gFrUZ69XZGyp"
      },
      "outputs": [],
      "source": [
        "!nvidia-smi"
      ]
    },
    {
      "cell_type": "code",
      "source": [
        "!pip uninstall torch torchvision -y\n",
        "!pip install torch==1.9.1+cu111 torchvision==0.10.1+cu111 -f https://download.pytorch.org/whl/torch_stable.html"
      ],
      "metadata": {
        "id": "1Al1j_WFE_Fq"
      },
      "execution_count": null,
      "outputs": []
    },
    {
      "cell_type": "code",
      "source": [
        "!pip install timm==0.4.12 ftfy==6.1.1 ninja==1.10.2 numpy==1.20 click==8.0 pillow==8.3.1 scipy==1.7.1 requests==2.26.0 tqdm==4.62.2 matplotlib==3.4.2 \\\n",
        "imageio==2.9.0 dill==0.3.4 psutil==5.8.0 regex==2022.3.15 imgui==1.3.0 glfw==2.2.0 pyopengl==3.1.5 imageio-ffmpeg==0.4.3 pyspng opensimplex\n",
        "\n"
      ],
      "metadata": {
        "id": "gU63mlh6f0oS"
      },
      "execution_count": null,
      "outputs": []
    },
    {
      "cell_type": "code",
      "source": [
        "from google.colab import drive\n",
        "drive.mount('/content/drive')"
      ],
      "metadata": {
        "id": "dPwWyKKIJwpc"
      },
      "execution_count": null,
      "outputs": []
    },
    {
      "cell_type": "code",
      "source": [
        "%cd /content/drive/MyDrive/"
      ],
      "metadata": {
        "id": "rMMJXu0xJ9bo"
      },
      "execution_count": null,
      "outputs": []
    },
    {
      "cell_type": "code",
      "source": [
        "!git clone https://github.com/autonomousvision/stylegan_xl.git"
      ],
      "metadata": {
        "id": "s8xoYZKXJ__i"
      },
      "execution_count": null,
      "outputs": []
    },
    {
      "cell_type": "code",
      "source": [
        "%cd /content/drive/MyDrive/stylegan_xl"
      ],
      "metadata": {
        "id": "OJZQd4sCKXnv"
      },
      "execution_count": null,
      "outputs": []
    },
    {
      "cell_type": "code",
      "source": [
        "!python train.py --outdir=./training-runs/ --cfg=stylegan3-t --data=/content/drive/MyDrive/hirise60kgan.zip \\\n",
        "    --gpus=1 --batch=32 --snap 2 --batch-gpu 8 --kimg 10000 --cbase 16384 --syn_layers 7 \\\n",
        "    #--resume=/content/drive/MyDrive/stylegan_xl/training_runs/00000-stylegan3-t-hirise60kgan-gpus1-batch32/network-snapshot.pkl"
      ],
      "metadata": {
        "id": "C5Ms9gFmKQf1"
      },
      "execution_count": null,
      "outputs": []
    },
    {
      "cell_type": "code",
      "source": [
        "70/10"
      ],
      "metadata": {
        "id": "gtxJK2ZwGaxm"
      },
      "execution_count": null,
      "outputs": []
    }
  ]
}